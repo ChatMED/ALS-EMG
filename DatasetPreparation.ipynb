{
 "cells": [
  {
   "cell_type": "code",
   "execution_count": null,
   "metadata": {},
   "outputs": [
    {
     "name": "stdout",
     "output_type": "stream",
     "text": [
      "^C\n"
     ]
    },
    {
     "name": "stdout",
     "output_type": "stream",
     "text": [
      "Requirement already satisfied: wfdb in d:\\jupyter projects\\cancer\\.conda\\lib\\site-packages (4.1.2)\n",
      "Requirement already satisfied: antropy in d:\\jupyter projects\\cancer\\.conda\\lib\\site-packages (0.1.9)\n",
      "Requirement already satisfied: EMD-signal in d:\\jupyter projects\\cancer\\.conda\\lib\\site-packages (1.6.4)\n",
      "Requirement already satisfied: SoundFile>=0.10.0 in d:\\jupyter projects\\cancer\\.conda\\lib\\site-packages (from wfdb) (0.12.1)\n",
      "Requirement already satisfied: matplotlib>=3.2.2 in d:\\jupyter projects\\cancer\\.conda\\lib\\site-packages (from wfdb) (3.9.2)\n",
      "Requirement already satisfied: numpy>=1.10.1 in d:\\jupyter projects\\cancer\\.conda\\lib\\site-packages (from wfdb) (1.26.4)\n",
      "Requirement already satisfied: pandas>=1.3.0 in d:\\jupyter projects\\cancer\\.conda\\lib\\site-packages (from wfdb) (2.2.3)\n",
      "Requirement already satisfied: requests>=2.8.1 in d:\\jupyter projects\\cancer\\.conda\\lib\\site-packages (from wfdb) (2.32.3)\n",
      "Requirement already satisfied: scipy>=1.0.0 in d:\\jupyter projects\\cancer\\.conda\\lib\\site-packages (from wfdb) (1.14.1)\n",
      "Requirement already satisfied: scikit-learn in d:\\jupyter projects\\cancer\\.conda\\lib\\site-packages (from antropy) (1.5.2)\n",
      "Requirement already satisfied: numba>=0.57 in d:\\jupyter projects\\cancer\\.conda\\lib\\site-packages (from antropy) (0.61.0)\n",
      "Requirement already satisfied: pathos>=0.2.1 in d:\\jupyter projects\\cancer\\.conda\\lib\\site-packages (from EMD-signal) (0.3.3)\n",
      "Requirement already satisfied: tqdm<5.0,>=4.64.0 in d:\\jupyter projects\\cancer\\.conda\\lib\\site-packages (from EMD-signal) (4.67.1)\n",
      "Requirement already satisfied: contourpy>=1.0.1 in d:\\jupyter projects\\cancer\\.conda\\lib\\site-packages (from matplotlib>=3.2.2->wfdb) (1.3.0)\n",
      "Requirement already satisfied: cycler>=0.10 in d:\\jupyter projects\\cancer\\.conda\\lib\\site-packages (from matplotlib>=3.2.2->wfdb) (0.12.1)\n",
      "Requirement already satisfied: fonttools>=4.22.0 in d:\\jupyter projects\\cancer\\.conda\\lib\\site-packages (from matplotlib>=3.2.2->wfdb) (4.54.1)\n",
      "Requirement already satisfied: kiwisolver>=1.3.1 in d:\\jupyter projects\\cancer\\.conda\\lib\\site-packages (from matplotlib>=3.2.2->wfdb) (1.4.7)\n",
      "Requirement already satisfied: packaging>=20.0 in d:\\jupyter projects\\cancer\\.conda\\lib\\site-packages (from matplotlib>=3.2.2->wfdb) (24.1)\n",
      "Requirement already satisfied: pillow>=8 in d:\\jupyter projects\\cancer\\.conda\\lib\\site-packages (from matplotlib>=3.2.2->wfdb) (11.0.0)\n",
      "Requirement already satisfied: pyparsing>=2.3.1 in d:\\jupyter projects\\cancer\\.conda\\lib\\site-packages (from matplotlib>=3.2.2->wfdb) (3.2.0)\n",
      "Requirement already satisfied: python-dateutil>=2.7 in d:\\jupyter projects\\cancer\\.conda\\lib\\site-packages (from matplotlib>=3.2.2->wfdb) (2.9.0.post0)\n",
      "Requirement already satisfied: llvmlite<0.45,>=0.44.0dev0 in d:\\jupyter projects\\cancer\\.conda\\lib\\site-packages (from numba>=0.57->antropy) (0.44.0)\n",
      "Requirement already satisfied: pytz>=2020.1 in d:\\jupyter projects\\cancer\\.conda\\lib\\site-packages (from pandas>=1.3.0->wfdb) (2024.2)\n",
      "Requirement already satisfied: tzdata>=2022.7 in d:\\jupyter projects\\cancer\\.conda\\lib\\site-packages (from pandas>=1.3.0->wfdb) (2024.2)\n",
      "Requirement already satisfied: ppft>=1.7.6.9 in d:\\jupyter projects\\cancer\\.conda\\lib\\site-packages (from pathos>=0.2.1->EMD-signal) (1.7.6.9)\n",
      "Requirement already satisfied: dill>=0.3.9 in d:\\jupyter projects\\cancer\\.conda\\lib\\site-packages (from pathos>=0.2.1->EMD-signal) (0.3.9)\n",
      "Requirement already satisfied: pox>=0.3.5 in d:\\jupyter projects\\cancer\\.conda\\lib\\site-packages (from pathos>=0.2.1->EMD-signal) (0.3.5)\n",
      "Requirement already satisfied: multiprocess>=0.70.17 in d:\\jupyter projects\\cancer\\.conda\\lib\\site-packages (from pathos>=0.2.1->EMD-signal) (0.70.17)\n",
      "Requirement already satisfied: charset-normalizer<4,>=2 in d:\\jupyter projects\\cancer\\.conda\\lib\\site-packages (from requests>=2.8.1->wfdb) (3.4.0)\n",
      "Requirement already satisfied: idna<4,>=2.5 in d:\\jupyter projects\\cancer\\.conda\\lib\\site-packages (from requests>=2.8.1->wfdb) (3.10)\n",
      "Requirement already satisfied: urllib3<3,>=1.21.1 in d:\\jupyter projects\\cancer\\.conda\\lib\\site-packages (from requests>=2.8.1->wfdb) (2.2.3)\n",
      "Requirement already satisfied: certifi>=2017.4.17 in d:\\jupyter projects\\cancer\\.conda\\lib\\site-packages (from requests>=2.8.1->wfdb) (2024.8.30)\n",
      "Requirement already satisfied: cffi>=1.0 in d:\\jupyter projects\\cancer\\.conda\\lib\\site-packages (from SoundFile>=0.10.0->wfdb) (1.17.1)\n",
      "Requirement already satisfied: colorama in d:\\jupyter projects\\cancer\\.conda\\lib\\site-packages (from tqdm<5.0,>=4.64.0->EMD-signal) (0.4.6)\n",
      "Requirement already satisfied: joblib>=1.2.0 in d:\\jupyter projects\\cancer\\.conda\\lib\\site-packages (from scikit-learn->antropy) (1.4.2)\n",
      "Requirement already satisfied: threadpoolctl>=3.1.0 in d:\\jupyter projects\\cancer\\.conda\\lib\\site-packages (from scikit-learn->antropy) (3.5.0)\n",
      "Requirement already satisfied: pycparser in d:\\jupyter projects\\cancer\\.conda\\lib\\site-packages (from cffi>=1.0->SoundFile>=0.10.0->wfdb) (2.22)\n",
      "Requirement already satisfied: six>=1.5 in d:\\jupyter projects\\cancer\\.conda\\lib\\site-packages (from python-dateutil>=2.7->matplotlib>=3.2.2->wfdb) (1.16.0)\n"
     ]
    }
   ],
   "source": [
    "!pip install wfdb antropy EMD-signal"
   ]
  },
  {
   "cell_type": "code",
   "execution_count": 4,
   "metadata": {},
   "outputs": [],
   "source": [
    "import os\n",
    "import wfdb\n",
    "import pandas as pd\n",
    "import numpy as np\n",
    "from scipy.signal import welch\n",
    "import antropy as ant\n",
    "import json\n",
    "from joblib import Parallel, delayed\n",
    "import pywt\n",
    "from PyEMD import EMD\n",
    "from scipy.signal import hilbert\n",
    "from xgboost import XGBClassifier\n",
    "from sklearn.metrics import f1_score,accuracy_score,recall_score,precision_score"
   ]
  },
  {
   "cell_type": "code",
   "execution_count": null,
   "metadata": {},
   "outputs": [],
   "source": [
    "project_directory=\"als_datasets\"  # content/drive/MyDrive/Colab Notebooks/Diplomska\n",
    "emglab_dataset=os.path.join(project_directory,\"emglab_dataset_bb\")\n",
    "\n",
    "\n",
    "als_myopathy_dataset=os.path.join(project_directory,\"als_myopathy_dataset\")\n",
    "control_myopathy_dataset=os.path.join(project_directory,\"control_myopathy_dataset\")\n",
    "control_als_dataset=os.path.join(project_directory,\"control_als_dataset\")\n",
    "control_als_myopathy_dataset=os.path.join(project_directory,\"control_als_myopathy_dataset\")\n"
   ]
  },
  {
   "cell_type": "code",
   "execution_count": null,
   "metadata": {},
   "outputs": [],
   "source": [
    "def create_folder_if_not_exist(folder_path):\n",
    "    if not os.path.exists(folder_path):\n",
    "        os.makedirs(folder_path)\n",
    "\n",
    "\n",
    "create_folder_if_not_exist(als_myopathy_dataset)\n",
    "create_folder_if_not_exist(control_myopathy_dataset)\n",
    "create_folder_if_not_exist(control_als_dataset)\n",
    "create_folder_if_not_exist(control_als_myopathy_dataset)"
   ]
  },
  {
   "cell_type": "code",
   "execution_count": null,
   "metadata": {},
   "outputs": [],
   "source": [
    "def parse_binary_files(database_dir):\n",
    "    signal_data_list=[]\n",
    "    record_name_list=[]\n",
    "\n",
    "    hea_files=[f for f in os.listdir(database_dir) if f.endswith(\".hea\")]\n",
    "\n",
    "    for file in hea_files:\n",
    "        record_name=os.path.splitext(file)[0]\n",
    "        record_path=os.path.join(database_dir,record_name)\n",
    "        record=wfdb.rdrecord(record_path)\n",
    "\n",
    "        signal_data=np.array(record.p_signal).flatten()\n",
    "        \n",
    "        signal_data_list.append(signal_data)\n",
    "        record_name_list.append(record_name)\n",
    "\n",
    "    signal_data_array=np.stack(signal_data_list)\n",
    "\n",
    "    data = list(zip(record_name_list, signal_data_array))\n",
    "    sorted_data = sorted(data, key=lambda x: x[0])\n",
    "\n",
    "    record_name_list=[x[0] for x in sorted_data]\n",
    "    signal_data_array=[x[1] for x in sorted_data]\n",
    "\n",
    "    return signal_data_array,record_name_list"
   ]
  },
  {
   "cell_type": "code",
   "execution_count": null,
   "metadata": {},
   "outputs": [],
   "source": [
    "def generate_database(data,file_names):\n",
    "    \n",
    "    def classification_func(row):\n",
    "        return {\"C\":0,\"M\":2, \"A\":1}[row[\"Diagnosis\"]]\n",
    "\n",
    "    df_data=[\n",
    "        {\n",
    "            \"Diagnosis\":file_names[i][5],\n",
    "            \"Patient\":int(file_names[i][6:8]),\n",
    "            \"Signal\":data[i]\n",
    "        } for i in range(0,len(data))\n",
    "    ]\n",
    "\n",
    "    df=pd.DataFrame(df_data)\n",
    "\n",
    "    df[\"Class\"]=df.apply(classification_func,axis=1)\n",
    "    df.drop(columns=[\"Diagnosis\"],inplace=True)\n",
    "    return df"
   ]
  },
  {
   "cell_type": "code",
   "execution_count": null,
   "metadata": {},
   "outputs": [],
   "source": [
    "def segmentation(signal,fs=23437,window_length=1):\n",
    "    window_size = int(round(fs * window_length))\n",
    "    segments = [signal[i:i + window_size] for i in range(0, len(signal), window_size)]\n",
    "    segments = [s for s in segments if len(s) == window_size]\n",
    "    return segments"
   ]
  },
  {
   "cell_type": "code",
   "execution_count": null,
   "metadata": {},
   "outputs": [],
   "source": [
    "def extract_time_features(segment):\n",
    "    mav = np.mean(np.abs(segment))  # Mean Absolute Value\n",
    "    wl = np.sum(np.abs(np.diff(segment)))  # Waveform Length\n",
    "    zc = np.sum(np.diff(np.sign(segment)) != 0)  # Zero Crossing\n",
    "    ssc = np.sum((segment[1:-1] - segment[:-2]) * (segment[1:-1] - segment[2:]) > 0)  # Slope Sign Changes\n",
    "    return [mav, wl, zc, ssc]\n",
    "\n",
    "def extract_frequency_features(segment, fs=23437.5):\n",
    "    freqs, psd = welch(segment, fs=fs, nperseg=len(segment))\n",
    "\n",
    "    if len(psd) == 0 or np.sum(psd) == 0: \n",
    "        return [0, 0]  \n",
    "    \n",
    "    mnf = np.sum(freqs * psd) / np.sum(psd)  # Mean Frequency\n",
    "\n",
    "    \n",
    "    cumulative_psd = np.cumsum(psd)\n",
    "    valid_indices = np.where(cumulative_psd >= np.sum(psd) / 2)[0]\n",
    "    \n",
    "    if len(valid_indices) == 0:  \n",
    "        mdf = 0\n",
    "    else:\n",
    "        mdf = freqs[valid_indices[0]]  # Median Frequency\n",
    "\n",
    "    return [mnf, mdf]\n",
    "\n",
    "def extract_nonlinear_features(segment):\n",
    "    apen = ant.app_entropy(segment)  # Approximate Entropy\n",
    "    sampen = ant.sample_entropy(segment)  # Sample Entropy\n",
    "    fd = ant.higuchi_fd(segment)  # Fractal Dimension\n",
    "    return [apen, sampen, fd]\n",
    "\n",
    "\n",
    "def extract_spectral_features(segment,fs=23437.5):\n",
    "    coefficients, _ = pywt.cwt(segment, np.arange(1, 128), 'morl')\n",
    "    we=np.sum(coefficients ** 2)  # Wavelength Energy\n",
    "\n",
    "    emd = EMD()\n",
    "    imfs = emd(segment)\n",
    "\n",
    "    all_freqs = []\n",
    "    for imf in imfs:\n",
    "        analytic_signal = hilbert(imf)\n",
    "        instantaneous_phase = np.unwrap(np.angle(analytic_signal))\n",
    "        instantaneous_freq = np.diff(instantaneous_phase) / (2.0 * np.pi) * fs\n",
    "        all_freqs.append(np.mean(instantaneous_freq))\n",
    "    mif = np.mean(all_freqs)  # Mean Instantaneous Frequency\n",
    "\n",
    "    return [we,mif]\n"
   ]
  },
  {
   "cell_type": "code",
   "execution_count": null,
   "metadata": {},
   "outputs": [],
   "source": [
    "def dataset_formatting(dataframe,columns_to_drop):\n",
    "    dataset=[]\n",
    "    for i, row in dataframe.drop(columns=columns_to_drop).iterrows():\n",
    "        sample={}\n",
    "        prompt=\"Quantitative EMG: \"\n",
    "        for key,value in row.items():\n",
    "            if(key != \"Class\"):\n",
    "                prompt+=f\"{key} = {value}, \"\n",
    "        completion=\"Healthy\" if row[\"Class\"] == 0 else \"ALS\" if row[\"Class\"] == 1 else \"Myopathy\"\n",
    "        sample[\"prompt\"]=prompt[:-2]\n",
    "        sample[\"completion\"]=completion\n",
    "        \n",
    "        dataset.append(sample)\n",
    "    \n",
    "    return dataset"
   ]
  },
  {
   "cell_type": "code",
   "execution_count": null,
   "metadata": {},
   "outputs": [],
   "source": [
    "def save_jsonl(data, filename):\n",
    "    with open(filename, 'w', encoding='utf-8') as f:\n",
    "        for item in data:\n",
    "            f.write(json.dumps(item) + \"\\n\")"
   ]
  },
  {
   "cell_type": "code",
   "execution_count": null,
   "metadata": {},
   "outputs": [],
   "source": [
    "signal_data_array,record_name_list=parse_binary_files(emglab_dataset)\n",
    "df=generate_database(signal_data_array,record_name_list)\n",
    "\n",
    "df[\"Signal_Segment\"]=df[\"Signal\"].apply(lambda sig:segmentation(sig,window_length=0.25))"
   ]
  },
  {
   "cell_type": "code",
   "execution_count": null,
   "metadata": {},
   "outputs": [],
   "source": [
    "df_interval=pd.DataFrame(columns=[\"Patient\",\"Class\",\"Interval\"])\n",
    "\n",
    "for i,row in df.iterrows():\n",
    "    for seg in row[\"Signal_Segment\"]:\n",
    "        new_row=[row[\"Patient\"],row[\"Class\"],seg]\n",
    "        df_interval.loc[len(df_interval)]=new_row"
   ]
  },
  {
   "cell_type": "code",
   "execution_count": null,
   "metadata": {},
   "outputs": [
    {
     "data": {
      "text/plain": [
       "Interval\n",
       "5859    20900\n",
       "Name: count, dtype: int64"
      ]
     },
     "execution_count": 20,
     "metadata": {},
     "output_type": "execute_result"
    }
   ],
   "source": [
    "df_interval[\"Interval\"].apply(lambda seg:len(seg)).value_counts()"
   ]
  },
  {
   "cell_type": "code",
   "execution_count": null,
   "metadata": {},
   "outputs": [],
   "source": [
    "df_interval[\"Interval\"]=df_interval[\"Interval\"].apply(lambda seg:[s for s in seg if not np.isnan(s)])\n",
    "df_interval[\"To_Drop\"]=df_interval[\"Interval\"].apply(lambda seg:len(seg) == 5859)\n",
    "df_interval=df_interval[df_interval[\"To_Drop\"] == True].drop(columns=[\"To_Drop\"])"
   ]
  },
  {
   "cell_type": "code",
   "execution_count": null,
   "metadata": {},
   "outputs": [],
   "source": [
    "df_interval[[\"MAV\",\"WL\", \"ZC\", \"SSC\"]]=df_interval[\"Interval\"].apply(lambda seg:extract_time_features(np.array(seg))).apply(pd.Series)\n",
    "df_interval[[\"MNF\",\"MDF\"]]=df_interval[\"Interval\"].apply(lambda seg:extract_frequency_features(np.array(seg))).apply(pd.Series)\n",
    "\n",
    "nonlinear_results = Parallel(n_jobs=-1)(\n",
    "    delayed(extract_nonlinear_features)(np.array(seg)) for seg in df_interval[\"Interval\"]\n",
    ")\n",
    "df_interval[[\"APEN\", \"SampEn\", \"FracDim\"]] = pd.DataFrame(nonlinear_results)\n",
    "\n",
    "spectral_results=Parallel(n_jobs=-1)(\n",
    "    delayed(extract_spectral_features)(np.array(seg)) for seg in df_interval[\"Interval\"]\n",
    ")\n",
    "df_interval[[\"WE\",\"MIF\"]]=pd.DataFrame(spectral_results)"
   ]
  },
  {
   "cell_type": "code",
   "execution_count": null,
   "metadata": {},
   "outputs": [],
   "source": [
    "df_interval.dropna(inplace=True)\n",
    "train_patients=[3,4,5,6,7]\n",
    "test_patients=[1,2,8,9]\n",
    "\n",
    "train_dataset=df_interval[df_interval[\"Patient\"].isin(train_patients)].drop(columns=[\"Interval\",\"Patient\"])\n",
    "test_dataset=df_interval[df_interval[\"Patient\"].isin(test_patients)].drop(columns=[\"Interval\",\"Patient\"])\n",
    "\n",
    "# train_dataset.to_csv(\"train.csv\",index=False)\n",
    "# test_dataset.to_csv(\"test.csv\",index=False)"
   ]
  },
  {
   "cell_type": "code",
   "execution_count": null,
   "metadata": {},
   "outputs": [],
   "source": [
    "# train_dataset=pd.read_csv(\"train.csv\")\n",
    "# test_dataset=pd.read_csv(\"test.csv\")"
   ]
  },
  {
   "cell_type": "code",
   "execution_count": 6,
   "metadata": {},
   "outputs": [],
   "source": [
    "train_control=train_dataset[train_dataset[\"Class\"] == 0]\n",
    "train_als=train_dataset[train_dataset[\"Class\"] == 1]\n",
    "train_myopathy=train_dataset[train_dataset[\"Class\"] == 2]\n",
    "\n",
    "test_control=test_dataset[test_dataset[\"Class\"] == 0]\n",
    "test_als=test_dataset[test_dataset[\"Class\"] == 1]\n",
    "test_myopathy=test_dataset[test_dataset[\"Class\"] == 2]"
   ]
  },
  {
   "cell_type": "code",
   "execution_count": 7,
   "metadata": {},
   "outputs": [
    {
     "name": "stdout",
     "output_type": "stream",
     "text": [
      "Train Control samples: 6597 \t Test Control samples: 5280\n",
      "Train ALS samples: 3062 \t Test ALS samples: 1173\n",
      "Train Myopathy samples: 3562 \t Test Myopathy samples: 1095\n"
     ]
    }
   ],
   "source": [
    "print(\"Train Control samples:\",train_control.shape[0],\"\\t\",\"Test Control samples:\",test_control.shape[0])\n",
    "print(\"Train ALS samples:\",train_als.shape[0],\"\\t\",\"Test ALS samples:\",test_als.shape[0])\n",
    "print(\"Train Myopathy samples:\",train_myopathy.shape[0],\"\\t\",\"Test Myopathy samples:\",test_myopathy.shape[0])"
   ]
  },
  {
   "cell_type": "code",
   "execution_count": 8,
   "metadata": {},
   "outputs": [],
   "source": [
    "train_control_sample=train_control.sample(3300)\n",
    "test_control_sample=test_control.sample(1100)"
   ]
  },
  {
   "cell_type": "code",
   "execution_count": 9,
   "metadata": {},
   "outputs": [],
   "source": [
    "train_control_als_df=pd.concat([train_control_sample,train_als])\n",
    "train_control_myopathy_df=pd.concat([train_control_sample,train_myopathy])\n",
    "train_als_myopathy_df=pd.concat([train_als,train_myopathy])\n",
    "train_control_als_myopathy_df=pd.concat([train_control_sample,train_als,train_myopathy])\n",
    "\n",
    "\n",
    "test_control_als_df=pd.concat([test_control_sample,test_als])\n",
    "test_control_myopathy_df=pd.concat([test_control_sample,test_myopathy])\n",
    "test_als_myopathy_df=pd.concat([test_als,test_myopathy])\n",
    "test_control_als_myopathy_df=pd.concat([test_control_sample,test_als,test_myopathy])"
   ]
  },
  {
   "cell_type": "code",
   "execution_count": null,
   "metadata": {},
   "outputs": [],
   "source": [
    "train_control_als_df=dataset_formatting(train_control_als_df,[])\n",
    "train_control_myopathy_df=dataset_formatting(train_control_myopathy_df,[])\n",
    "train_als_myopathy_df=dataset_formatting(train_als_myopathy_df,[])\n",
    "train_control_als_myopathy_df=dataset_formatting(train_control_als_myopathy_df,[])\n",
    "test_control_als_df=dataset_formatting(test_control_als_df,[])\n",
    "test_control_myopathy_df=dataset_formatting(test_control_myopathy_df,[])\n",
    "test_als_myopathy_df=dataset_formatting(test_als_myopathy_df,[])\n",
    "test_control_als_myopathy_df=dataset_formatting(test_control_als_myopathy_df,[])\n",
    "\n",
    "save_jsonl(train_control_als_df,os.path.join(control_als_dataset,\"train.jsonl\"))\n",
    "save_jsonl(train_control_myopathy_df,os.path.join(control_myopathy_dataset,\"train.jsonl\"))\n",
    "save_jsonl(train_als_myopathy_df,os.path.join(als_myopathy_dataset,\"train.jsonl\"))\n",
    "save_jsonl(train_control_als_myopathy_df,os.path.join(control_als_myopathy_dataset,\"train.jsonl\"))\n",
    "save_jsonl(test_control_als_df,os.path.join(control_als_dataset,\"test.jsonl\"))\n",
    "save_jsonl(test_control_myopathy_df,os.path.join(control_myopathy_dataset,\"test.jsonl\"))\n",
    "save_jsonl(test_als_myopathy_df,os.path.join(als_myopathy_dataset,\"test.jsonl\"))\n",
    "save_jsonl(test_control_als_myopathy_df,os.path.join(control_als_myopathy_dataset,\"test.jsonl\"))"
   ]
  },
  {
   "cell_type": "code",
   "execution_count": 11,
   "metadata": {},
   "outputs": [],
   "source": [
    "train_control_myopathy_df[\"Class\"]=train_control_myopathy_df[\"Class\"].apply(lambda c:c if c != 2 else 1)\n",
    "train_als_myopathy_df[\"Class\"]=train_als_myopathy_df[\"Class\"].apply(lambda c:c if c != 2 else 0)\n",
    "\n",
    "test_control_myopathy_df[\"Class\"]=test_control_myopathy_df[\"Class\"].apply(lambda c:c if c !=2 else 1)\n",
    "test_als_myopathy_df[\"Class\"]=test_als_myopathy_df[\"Class\"].apply(lambda c:c if c !=2 else 0)"
   ]
  },
  {
   "cell_type": "code",
   "execution_count": null,
   "metadata": {},
   "outputs": [
    {
     "name": "stdout",
     "output_type": "stream",
     "text": [
      "Control - ALS Binary Dataset\n",
      "\n",
      "Precision: 0.725609756097561\n",
      "Recall: 0.8115942028985508\n",
      "F1 Score: 0.7661971830985915\n",
      "Accuracy: 0.7443906731192257\n"
     ]
    }
   ],
   "source": [
    "model=XGBClassifier()\n",
    "model.fit(train_control_als_df.drop(columns=[\"Class\"]),train_control_als_df[\"Class\"])\n",
    "y_true=test_control_als_df[\"Class\"]\n",
    "y_pred=model.predict(test_control_als_df.drop(columns=[\"Class\"]))\n",
    "print(\"Control - ALS Binary Dataset\")\n",
    "print()\n",
    "print(\"Precision:\",precision_score(y_true,y_pred))\n",
    "print(\"Recall:\",recall_score(y_true,y_pred))\n",
    "print(\"F1 Score:\",f1_score(y_true,y_pred))\n",
    "print(\"Accuracy:\",accuracy_score(y_true,y_pred))"
   ]
  },
  {
   "cell_type": "code",
   "execution_count": null,
   "metadata": {},
   "outputs": [
    {
     "name": "stdout",
     "output_type": "stream",
     "text": [
      "Control - Myopathy Binary Dataset\n",
      "\n",
      "Precision: 0.7615571776155717\n",
      "Recall: 0.5716894977168949\n",
      "F1 Score: 0.6531038080333855\n",
      "Accuracy: 0.6970387243735763\n"
     ]
    }
   ],
   "source": [
    "model=XGBClassifier()\n",
    "model.fit(train_control_myopathy_df.drop(columns=[\"Class\"]),train_control_myopathy_df[\"Class\"])\n",
    "y_true=test_control_myopathy_df[\"Class\"]\n",
    "y_pred=model.predict(test_control_myopathy_df.drop(columns=[\"Class\"]))\n",
    "print(\"Control - Myopathy Binary Dataset\")\n",
    "print()\n",
    "print(\"Precision:\",precision_score(y_true,y_pred))\n",
    "print(\"Recall:\",recall_score(y_true,y_pred))\n",
    "print(\"F1 Score:\",f1_score(y_true,y_pred))\n",
    "print(\"Accuracy:\",accuracy_score(y_true,y_pred))"
   ]
  },
  {
   "cell_type": "code",
   "execution_count": null,
   "metadata": {},
   "outputs": [
    {
     "name": "stdout",
     "output_type": "stream",
     "text": [
      "ALS - Myopathy Binary Dataset\n",
      "\n",
      "Precision: 0.8113348247576435\n",
      "Recall: 0.927536231884058\n",
      "F1 Score: 0.8655529037390612\n",
      "Accuracy: 0.8509700176366843\n"
     ]
    }
   ],
   "source": [
    "model=XGBClassifier()\n",
    "model.fit(train_als_myopathy_df.drop(columns=[\"Class\"]),train_als_myopathy_df[\"Class\"])\n",
    "y_true=test_als_myopathy_df[\"Class\"]\n",
    "y_pred=model.predict(test_als_myopathy_df.drop(columns=[\"Class\"]))\n",
    "print(\"ALS - Myopathy Binary Dataset\")\n",
    "print()\n",
    "print(\"Precision:\",precision_score(y_true,y_pred))\n",
    "print(\"Recall:\",recall_score(y_true,y_pred))\n",
    "print(\"F1 Score:\",f1_score(y_true,y_pred))\n",
    "print(\"Accuracy:\",accuracy_score(y_true,y_pred))"
   ]
  },
  {
   "cell_type": "code",
   "execution_count": 12,
   "metadata": {},
   "outputs": [
    {
     "name": "stdout",
     "output_type": "stream",
     "text": [
      "Control - ALS - Myopathy Binary Dataset\n",
      "\n",
      "Precision: 0.672957032239012\n",
      "Recall: 0.6571336388797763\n",
      "F1 Score: 0.6574641821140785\n",
      "Accuracy: 0.6603325415676959\n"
     ]
    }
   ],
   "source": [
    "model=XGBClassifier()\n",
    "model.fit(train_control_als_myopathy_df.drop(columns=[\"Class\"]),train_control_als_myopathy_df[\"Class\"])\n",
    "y_true=test_control_als_myopathy_df[\"Class\"]\n",
    "y_pred=model.predict(test_control_als_myopathy_df.drop(columns=[\"Class\"]))\n",
    "print(\"Control - ALS - Myopathy Binary Dataset\")\n",
    "print()\n",
    "print(\"Precision:\",precision_score(y_true,y_pred,average=\"macro\"))\n",
    "print(\"Recall:\",recall_score(y_true,y_pred,average=\"macro\"))\n",
    "print(\"F1 Score:\",f1_score(y_true,y_pred,average=\"macro\"))\n",
    "print(\"Accuracy:\",accuracy_score(y_true,y_pred))"
   ]
  }
 ],
 "metadata": {
  "kernelspec": {
   "display_name": ".conda",
   "language": "python",
   "name": "python3"
  },
  "language_info": {
   "codemirror_mode": {
    "name": "ipython",
    "version": 3
   },
   "file_extension": ".py",
   "mimetype": "text/x-python",
   "name": "python",
   "nbconvert_exporter": "python",
   "pygments_lexer": "ipython3",
   "version": "3.11.10"
  }
 },
 "nbformat": 4,
 "nbformat_minor": 2
}
