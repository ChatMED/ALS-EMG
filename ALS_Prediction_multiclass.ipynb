{
  "cells": [
    {
      "cell_type": "code",
      "execution_count": null,
      "metadata": {
        "id": "LyB6Mc_SCl7n"
      },
      "outputs": [],
      "source": [
        "!pip install unsloth peft transformers datasets trl accelerate evaluate"
      ]
    },
    {
      "cell_type": "code",
      "execution_count": null,
      "metadata": {
        "id": "4ZDJiaMwCysD"
      },
      "outputs": [],
      "source": [
        "from google.colab import drive\n",
        "drive.mount('/content/drive')"
      ]
    },
    {
      "cell_type": "code",
      "execution_count": null,
      "metadata": {
        "id": "aNgyoCXQC1OP"
      },
      "outputs": [],
      "source": [
        "from unsloth import FastLanguageModel\n",
        "import torch\n",
        "import json\n",
        "from datasets import Dataset,DatasetDict\n",
        "import pandas as pd\n",
        "from transformers import AutoTokenizer, DataCollatorWithPadding\n",
        "from transformers import AutoModelForSequenceClassification\n",
        "from transformers import Trainer,TrainingArguments\n",
        "from peft import get_peft_model, LoraConfig, TaskType\n",
        "import evaluate\n",
        "import numpy as np\n",
        "import os"
      ]
    },
    {
      "cell_type": "code",
      "execution_count": null,
      "metadata": {
        "id": "MjM854XkC1L4"
      },
      "outputs": [],
      "source": [
        "# project_directory=\"/content/drive/MyDrive/Colab Notebooks/Diplomska/als_datasets\"\n",
        "project_directory=\"als_datasets\"  # als_datasets folder location\n",
        "emglab_dataset=os.path.join(project_directory,\"emglab_dataset_bb\")\n",
        "\n",
        "control_als_dataset=os.path.join(project_directory,\"control_als_dataset\")\n",
        "control_myopathy_dataset=os.path.join(project_directory,\"control_myopathy_dataset\")\n",
        "als_myopathy_dataset=os.path.join(project_directory,\"als_myopathy_dataset\")\n",
        "control_als_myopathy_dataset=os.path.join(project_directory,\"control_als_myopathy_dataset\")"
      ]
    },
    {
      "cell_type": "code",
      "execution_count": 4,
      "metadata": {
        "id": "6VmMWxzKC1Jg"
      },
      "outputs": [],
      "source": [
        "LLAMA_MODEL=\"unsloth/Llama-3.2-1B-Instruct\"\n",
        "DEEPSEEK_MODEL=\"deepseek-ai/DeepSeek-R1-Distill-Qwen-1.5B\"\n",
        "\n",
        "LLAMA_MODEL3=\"unsloth/Llama-3.2-3B-bnb-4bit\"\n",
        "LLAMA_MODEL8=\"unsloth/Meta-Llama-3.1-8B-Instruct-bnb-4bit\"\n",
        "\n",
        "\n",
        "MODEL_PATH=LLAMA_MODEL3  # Large Language model used for classification\n",
        "\n",
        "TOKEN_LEN = 256\n",
        "NUM_CLASSES=3  # 2 if using a binary dataset, 3 if using a multiclass dataset\n",
        "\n",
        "lr = 1e-4\n",
        "batch_size = 16\n",
        "num_epochs = 50"
      ]
    },
    {
      "cell_type": "code",
      "execution_count": 5,
      "metadata": {
        "id": "zhWF4uoGC1G_"
      },
      "outputs": [],
      "source": [
        "current_dataset=control_als_myopathy_dataset  # Which dataset to finetune the llm\n",
        "\n",
        "with open(os.path.join(current_dataset,\"train.jsonl\"), \"r\") as file:\n",
        "    train_dataset = [json.loads(line) for line in file]\n",
        "\n",
        "with open(os.path.join(current_dataset,\"test.jsonl\"), \"r\") as file:\n",
        "    test_dataset = [json.loads(line) for line in file]"
      ]
    },
    {
      "cell_type": "code",
      "execution_count": null,
      "metadata": {
        "id": "gsZ41A3eC9qv"
      },
      "outputs": [],
      "source": [
        "train_dataset=Dataset.from_list(train_dataset)\n",
        "test_dataset=Dataset.from_list(test_dataset)\n",
        "\n",
        "dataset=DatasetDict({\n",
        "    \"train\":train_dataset,\n",
        "    \"test\":test_dataset\n",
        "})\n",
        "def rename_features_3_classes(example):\n",
        "    return {\n",
        "        \"text\": example[\"prompt\"],\n",
        "        \"target\": 0 if example[\"completion\"] == \"Healthy\" else 1 if example[\"completion\"] == \"ALS\" else 2\n",
        "    }\n",
        "\n",
        "dataset = dataset.map(rename_features_3_classes, remove_columns=[\"prompt\", \"completion\"])"
      ]
    },
    {
      "cell_type": "code",
      "execution_count": 7,
      "metadata": {
        "id": "m2JsCH-ZC1ER"
      },
      "outputs": [],
      "source": [
        "col_to_delete = ['text']"
      ]
    },
    {
      "cell_type": "code",
      "execution_count": null,
      "metadata": {
        "id": "defyXLYSC1Bo"
      },
      "outputs": [],
      "source": [
        "tokenizer = AutoTokenizer.from_pretrained(MODEL_PATH, trust_remote_code=True)\n",
        "tokenizer.pad_token_id = tokenizer.eos_token_id\n",
        "tokenizer.pad_token = tokenizer.eos_token\n",
        "\n",
        "def preprocessing_function(examples):\n",
        "    return tokenizer(examples['text'], truncation=True, max_length=TOKEN_LEN)\n",
        "\n",
        "tokenized_datasets = dataset.map(preprocessing_function, batched=True, remove_columns=col_to_delete)\n",
        "tokenized_datasets = tokenized_datasets.rename_column(\"target\", \"label\")\n",
        "tokenized_datasets.set_format(\"torch\")\n",
        "\n",
        "data_collator = DataCollatorWithPadding(tokenizer=tokenizer)"
      ]
    },
    {
      "cell_type": "code",
      "execution_count": null,
      "metadata": {
        "id": "u1Bw25IlC0-4"
      },
      "outputs": [],
      "source": [
        "model =  AutoModelForSequenceClassification.from_pretrained(\n",
        "  pretrained_model_name_or_path=MODEL_PATH,\n",
        "  num_labels=NUM_CLASSES,\n",
        "  device_map=\"auto\",\n",
        "  offload_folder=\"offload\",\n",
        "  trust_remote_code=True\n",
        ")"
      ]
    },
    {
      "cell_type": "code",
      "execution_count": null,
      "metadata": {
        "id": "-QPovloiC0y4"
      },
      "outputs": [],
      "source": [
        "model.config.pad_token_id = model.config.eos_token_id\n",
        "\n",
        "peft_config = LoraConfig(\n",
        "    task_type=TaskType.SEQ_CLS, r=16, lora_alpha=16, lora_dropout=0.05, bias=\"none\",\n",
        "    target_modules=[\n",
        "        \"q_proj\",\n",
        "        \"v_proj\",\n",
        "    ],\n",
        ")\n",
        "\n",
        "model = get_peft_model(model, peft_config)\n",
        "model.print_trainable_parameters()"
      ]
    },
    {
      "cell_type": "code",
      "execution_count": 11,
      "metadata": {
        "id": "nzRifU33DEwJ"
      },
      "outputs": [],
      "source": [
        "def compute_metrics(eval_pred):\n",
        "    precision_metric = evaluate.load(\"precision\")\n",
        "    recall_metric = evaluate.load(\"recall\")\n",
        "    f1_metric= evaluate.load(\"f1\")\n",
        "    accuracy_metric = evaluate.load(\"accuracy\")\n",
        "\n",
        "    logits, labels = eval_pred\n",
        "    predictions = np.argmax(logits, axis=-1)\n",
        "    precision = precision_metric.compute(predictions=predictions, references=labels,average=\"macro\")[\"precision\"]\n",
        "    recall = recall_metric.compute(predictions=predictions, references=labels,average=\"macro\")[\"recall\"]\n",
        "    f1 = f1_metric.compute(predictions=predictions, references=labels,average=\"macro\")[\"f1\"]\n",
        "    accuracy = accuracy_metric.compute(predictions=predictions, references=labels)[\"accuracy\"]\n",
        "\n",
        "    return {\"precision\": precision, \"recall\": recall, \"f1-score\": f1, 'accuracy': accuracy}"
      ]
    },
    {
      "cell_type": "code",
      "execution_count": null,
      "metadata": {
        "id": "r0_Mma9NDEqw"
      },
      "outputs": [],
      "source": [
        "training_args = TrainingArguments(\n",
        "    output_dir=\"lora-token-classification\",\n",
        "    learning_rate=lr,\n",
        "    lr_scheduler_type= \"constant\",\n",
        "    warmup_ratio= 0.1,\n",
        "    max_grad_norm= 0.3,\n",
        "    per_device_train_batch_size=batch_size,\n",
        "    per_device_eval_batch_size=batch_size,\n",
        "    num_train_epochs=num_epochs,\n",
        "    weight_decay=0.001,\n",
        "    evaluation_strategy=\"epoch\",\n",
        "    save_strategy=\"epoch\",\n",
        "    load_best_model_at_end=True,\n",
        "    report_to=\"wandb\",\n",
        "    fp16=True,\n",
        "    gradient_checkpointing=True,\n",
        ")\n",
        "\n",
        "trainer = Trainer(\n",
        "    model=model,\n",
        "    args=training_args,\n",
        "    train_dataset=tokenized_datasets['train'],\n",
        "    eval_dataset=tokenized_datasets[\"test\"],\n",
        "    data_collator=data_collator,\n",
        "    compute_metrics=compute_metrics\n",
        ")"
      ]
    },
    {
      "cell_type": "code",
      "execution_count": null,
      "metadata": {
        "id": "-KodBtwJDEf_"
      },
      "outputs": [],
      "source": [
        "trainer.train()"
      ]
    },
    {
      "cell_type": "code",
      "execution_count": null,
      "metadata": {
        "id": "GI7kXTEsDNDZ"
      },
      "outputs": [],
      "source": [
        "print(\"Model: \",\"Deepseek\")\n",
        "print(\"Dataset: \",\"control_als_myopathy_dataset\")\n",
        "trainer.evaluate()"
      ]
    }
  ],
  "metadata": {
    "accelerator": "GPU",
    "colab": {
      "gpuType": "T4",
      "provenance": []
    },
    "kernelspec": {
      "display_name": "Python 3",
      "name": "python3"
    },
    "language_info": {
      "name": "python"
    }
  },
  "nbformat": 4,
  "nbformat_minor": 0
}
