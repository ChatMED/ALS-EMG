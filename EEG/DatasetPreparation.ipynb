{
 "cells": [
  {
   "cell_type": "code",
   "execution_count": 2,
   "metadata": {},
   "outputs": [],
   "source": [
    "import os\n",
    "import pandas as pd\n",
    "import json"
   ]
  },
  {
   "cell_type": "code",
   "execution_count": null,
   "metadata": {},
   "outputs": [],
   "source": [
    "datasets_directory=\"classification_datasets\"\n",
    "output_directory=\"../LLM/eeg_datasets\"\n",
    "\n",
    "os.makedirs(output_directory,exist_ok=True)\n"
   ]
  },
  {
   "cell_type": "code",
   "execution_count": 4,
   "metadata": {},
   "outputs": [],
   "source": [
    "def dataset_formatting(dataframe,columns_to_drop):\n",
    "    dataset=[]\n",
    "    for i, row in dataframe.drop(columns=columns_to_drop).iterrows():\n",
    "        sample={}\n",
    "        prompt=\"Quantitative EEG: \"\n",
    "        for key,value in row.items():\n",
    "            if(key != \"Class\"):\n",
    "                prompt+=f\"{key} = {value}, \"\n",
    "        completion=\"Healthy\" if row[\"Class\"] == 0 else \"ALS\"\n",
    "        sample[\"prompt\"]=prompt[:-2]\n",
    "        sample[\"completion\"]=completion\n",
    "        \n",
    "        dataset.append(sample)\n",
    "    \n",
    "    return dataset"
   ]
  },
  {
   "cell_type": "code",
   "execution_count": 5,
   "metadata": {},
   "outputs": [],
   "source": [
    "def save_jsonl(data, filename):\n",
    "    with open(filename, 'w', encoding='utf-8') as f:\n",
    "        for item in data:\n",
    "            f.write(json.dumps(item) + \"\\n\")"
   ]
  },
  {
   "cell_type": "code",
   "execution_count": 8,
   "metadata": {},
   "outputs": [],
   "source": [
    "columns_to_drop=[\"PatientId\"]\n",
    "for ds in os.listdir(datasets_directory):\n",
    "    ds_path=os.path.join(datasets_directory,ds)\n",
    "    for trial in os.listdir(ds_path):\n",
    "        ds_input_path=os.path.join(datasets_directory,ds,trial)\n",
    "        ds_output_path=os.path.join(output_directory,ds,trial)\n",
    "\n",
    "        train_df=pd.read_csv(os.path.join(ds_input_path,\"train.csv\"))\n",
    "        val_df=pd.read_csv(os.path.join(ds_input_path,\"val.csv\"))\n",
    "        test_df=pd.read_csv(os.path.join(ds_input_path,\"test.csv\"))\n",
    "\n",
    "\n",
    "        train_df_formatted=dataset_formatting(train_df,columns_to_drop)\n",
    "        val_df_formatted=dataset_formatting(val_df,columns_to_drop)\n",
    "        test_df_formatted=dataset_formatting(test_df,columns_to_drop)\n",
    "        \n",
    "        os.makedirs(output_directory,exist_ok=True)\n",
    "        os.makedirs(os.path.join(output_directory,ds),exist_ok=True)\n",
    "        os.makedirs(ds_output_path,exist_ok=True)\n",
    "\n",
    "        save_jsonl(train_df_formatted,os.path.join(ds_output_path,\"train.jsonl\"))\n",
    "        save_jsonl(val_df_formatted,os.path.join(ds_output_path,\"val.jsonl\"))\n",
    "        save_jsonl(test_df_formatted,os.path.join(ds_output_path,\"test.jsonl\"))"
   ]
  }
 ],
 "metadata": {
  "kernelspec": {
   "display_name": ".venv",
   "language": "python",
   "name": "python3"
  },
  "language_info": {
   "codemirror_mode": {
    "name": "ipython",
    "version": 3
   },
   "file_extension": ".py",
   "mimetype": "text/x-python",
   "name": "python",
   "nbconvert_exporter": "python",
   "pygments_lexer": "ipython3",
   "version": "3.11.9"
  }
 },
 "nbformat": 4,
 "nbformat_minor": 2
}
