{
 "cells": [
  {
   "cell_type": "code",
   "execution_count": 12,
   "metadata": {},
   "outputs": [],
   "source": [
    "import os\n",
    "import shutil\n",
    "import pandas as pd\n",
    "import json"
   ]
  },
  {
   "cell_type": "code",
   "execution_count": 14,
   "metadata": {},
   "outputs": [],
   "source": [
    "datasets_directory=\"als_datasets\"\n",
    "output_directory=\"../LLM/emg_datasets\"\n",
    "\n",
    "os.makedirs(output_directory,exist_ok=True)\n"
   ]
  },
  {
   "cell_type": "code",
   "execution_count": 3,
   "metadata": {},
   "outputs": [],
   "source": [
    "def dataset_formatting(dataframe,columns_to_drop,classification_rules):\n",
    "    dataset=[]\n",
    "    for i, row in dataframe.drop(columns=columns_to_drop).iterrows():\n",
    "        sample={}\n",
    "        prompt=\"Quantitative EMG: \"\n",
    "        for key,value in row.items():\n",
    "            if(key != \"Class\"):\n",
    "                prompt+=f\"{key} = {value}, \"\n",
    "        completion=classification_rules[int(row[\"Class\"])]\n",
    "        sample[\"prompt\"]=prompt[:-2]\n",
    "        sample[\"completion\"]=completion\n",
    "        \n",
    "        dataset.append(sample)\n",
    "    \n",
    "    return dataset"
   ]
  },
  {
   "cell_type": "code",
   "execution_count": 4,
   "metadata": {},
   "outputs": [],
   "source": [
    "def save_jsonl(data, filename):\n",
    "    with open(filename, 'w', encoding='utf-8') as f:\n",
    "        for item in data:\n",
    "            f.write(json.dumps(item) + \"\\n\")"
   ]
  },
  {
   "cell_type": "code",
   "execution_count": 16,
   "metadata": {},
   "outputs": [],
   "source": [
    "control_vs_als_dataset=os.path.join(datasets_directory,\"control_vs_als_dataset\")\n",
    "control_vs_als_jsonl=os.path.join(output_directory,\"control_vs_als_dataset\")\n",
    "train_df=pd.read_csv(f\"{control_vs_als_dataset}/train.csv\")\n",
    "val_df=pd.read_csv(f\"{control_vs_als_dataset}/val.csv\")\n",
    "test_df=pd.read_csv(f\"{control_vs_als_dataset}/test.csv\")\n",
    "\n",
    "columns_to_drop=[\"Patient\"]\n",
    "classification_rules=[\"Healthy\",\"ALS\"]\n",
    "\n",
    "train_json=dataset_formatting(train_df,columns_to_drop,classification_rules)\n",
    "val_json=dataset_formatting(val_df,columns_to_drop,classification_rules)\n",
    "test_json=dataset_formatting(test_df,columns_to_drop,classification_rules)\n",
    "\n",
    "\n",
    "os.makedirs(control_vs_als_jsonl,exist_ok=True)\n",
    "save_jsonl(train_json,f\"{control_vs_als_jsonl}/train.jsonl\")\n",
    "save_jsonl(val_json,f\"{control_vs_als_jsonl}/val.jsonl\")\n",
    "save_jsonl(test_json,f\"{control_vs_als_jsonl}/test.jsonl\")\n"
   ]
  },
  {
   "cell_type": "code",
   "execution_count": 17,
   "metadata": {},
   "outputs": [],
   "source": [
    "control_vs_myopathy_dataset=os.path.join(datasets_directory,\"control_vs_myopathy_dataset\")\n",
    "control_vs_myopathy_jsonl=os.path.join(output_directory,\"control_vs_myopathy_dataset\")\n",
    "train_df=pd.read_csv(f\"{control_vs_myopathy_dataset}/train.csv\")\n",
    "val_df=pd.read_csv(f\"{control_vs_myopathy_dataset}/val.csv\")\n",
    "test_df=pd.read_csv(f\"{control_vs_myopathy_dataset}/test.csv\")\n",
    "\n",
    "\n",
    "columns_to_drop=[\"Patient\"]\n",
    "classification_rules=[\"Healthy\",\"Myopathy\"]\n",
    "\n",
    "train_json=dataset_formatting(train_df,columns_to_drop,classification_rules)\n",
    "val_json=dataset_formatting(val_df,columns_to_drop,classification_rules)\n",
    "test_json=dataset_formatting(test_df,columns_to_drop,classification_rules)\n",
    "\n",
    "os.makedirs(control_vs_myopathy_jsonl,exist_ok=True)\n",
    "save_jsonl(train_json,f\"{control_vs_myopathy_jsonl}/train.jsonl\")\n",
    "save_jsonl(val_json,f\"{control_vs_myopathy_jsonl}/val.jsonl\")\n",
    "save_jsonl(test_json,f\"{control_vs_myopathy_jsonl}/test.jsonl\")\n"
   ]
  },
  {
   "cell_type": "code",
   "execution_count": 19,
   "metadata": {},
   "outputs": [],
   "source": [
    "als_vs_myopathy_dataset=os.path.join(datasets_directory,\"als_vs_myopathy_dataset\")\n",
    "als_vs_myopathy_jsonl=os.path.join(output_directory,\"als_vs_myopathy_dataset\")\n",
    "train_df=pd.read_csv(f\"{als_vs_myopathy_dataset}/train.csv\")\n",
    "val_df=pd.read_csv(f\"{als_vs_myopathy_dataset}/val.csv\")\n",
    "test_df=pd.read_csv(f\"{als_vs_myopathy_dataset}/test.csv\")\n",
    "\n",
    "\n",
    "\n",
    "columns_to_drop=[\"Patient\"]\n",
    "classification_rules=[\"Myopathy\",\"ALS\"]\n",
    "\n",
    "train_json=dataset_formatting(train_df,columns_to_drop,classification_rules)\n",
    "val_json=dataset_formatting(val_df,columns_to_drop,classification_rules)\n",
    "test_json=dataset_formatting(test_df,columns_to_drop,classification_rules)\n",
    "\n",
    "os.makedirs(als_vs_myopathy_jsonl,exist_ok=True)\n",
    "save_jsonl(train_json,f\"{als_vs_myopathy_jsonl}/train.jsonl\")\n",
    "save_jsonl(val_json,f\"{als_vs_myopathy_jsonl}/val.jsonl\")\n",
    "save_jsonl(test_json,f\"{als_vs_myopathy_jsonl}/test.jsonl\")\n"
   ]
  },
  {
   "cell_type": "code",
   "execution_count": 20,
   "metadata": {},
   "outputs": [],
   "source": [
    "control_vs_als_vs_myopathy_dataset=os.path.join(datasets_directory,\"control_vs_als_vs_myopathy_dataset\")\n",
    "control_vs_als_vs_myopathy_jsonl=os.path.join(output_directory,\"control_vs_als_vs_myopathy_dataset\")\n",
    "train_df=pd.read_csv(f\"{control_vs_als_vs_myopathy_dataset}/train.csv\")\n",
    "val_df=pd.read_csv(f\"{control_vs_als_vs_myopathy_dataset}/val.csv\")\n",
    "test_df=pd.read_csv(f\"{control_vs_als_vs_myopathy_dataset}/test.csv\")\n",
    "\n",
    "columns_to_drop=[\"Patient\"]\n",
    "classification_rules=[\"Healthy\",\"ALS\",\"Myopathy\"]\n",
    "\n",
    "train_json=dataset_formatting(train_df,columns_to_drop,classification_rules)\n",
    "val_json=dataset_formatting(val_df,columns_to_drop,classification_rules)\n",
    "test_json=dataset_formatting(test_df,columns_to_drop,classification_rules)\n",
    "\n",
    "os.makedirs(control_vs_als_vs_myopathy_jsonl,exist_ok=True)\n",
    "save_jsonl(train_json,f\"{control_vs_als_vs_myopathy_jsonl}/train.jsonl\")\n",
    "save_jsonl(val_json,f\"{control_vs_als_vs_myopathy_jsonl}/val.jsonl\")\n",
    "save_jsonl(test_json,f\"{control_vs_als_vs_myopathy_jsonl}/test.jsonl\")\n",
    "\n",
    "\n"
   ]
  },
  {
   "cell_type": "code",
   "execution_count": 21,
   "metadata": {},
   "outputs": [],
   "source": [
    "als_vs_control_and_myopathy_dataset=os.path.join(datasets_directory,\"als_vs_control_and_myopathy_dataset\")\n",
    "als_vs_control_and_myopathy_jsonl=os.path.join(output_directory,\"als_vs_control_and_myopathy_dataset\")\n",
    "train_df=pd.read_csv(f\"{als_vs_control_and_myopathy_dataset}/train.csv\")\n",
    "val_df=pd.read_csv(f\"{als_vs_control_and_myopathy_dataset}/val.csv\")\n",
    "test_df=pd.read_csv(f\"{als_vs_control_and_myopathy_dataset}/test.csv\")\n",
    "\n",
    "\n",
    "columns_to_drop=[\"Patient\"]\n",
    "classification_rules=[\"NON-ALS\",\"ALS\"]\n",
    "\n",
    "train_json=dataset_formatting(train_df,columns_to_drop,classification_rules)\n",
    "val_json=dataset_formatting(val_df,columns_to_drop,classification_rules)\n",
    "test_json=dataset_formatting(test_df,columns_to_drop,classification_rules)\n",
    "\n",
    "os.makedirs(als_vs_control_and_myopathy_jsonl,exist_ok=True)\n",
    "save_jsonl(train_json,f\"{als_vs_control_and_myopathy_jsonl}/train.jsonl\")\n",
    "save_jsonl(val_json,f\"{als_vs_control_and_myopathy_jsonl}/val.jsonl\")\n",
    "save_jsonl(test_json,f\"{als_vs_control_and_myopathy_jsonl}/test.jsonl\")\n",
    "\n",
    "\n"
   ]
  },
  {
   "cell_type": "code",
   "execution_count": 22,
   "metadata": {},
   "outputs": [],
   "source": [
    "control_vs_als_and_myopathy_dataset=os.path.join(datasets_directory,\"control_vs_als_and_myopathy_dataset\")\n",
    "control_vs_als_and_myopathy_jsonl=os.path.join(output_directory,\"control_vs_als_and_myopathy_dataset\")\n",
    "train_df=pd.read_csv(f\"{control_vs_als_and_myopathy_dataset}/train.csv\")\n",
    "val_df=pd.read_csv(f\"{control_vs_als_and_myopathy_dataset}/val.csv\")\n",
    "test_df=pd.read_csv(f\"{control_vs_als_and_myopathy_dataset}/test.csv\")\n",
    "\n",
    "\n",
    "columns_to_drop=[\"Patient\"]\n",
    "classification_rules=[\"NON-Healthy\",\"Healthy\"]\n",
    "\n",
    "train_json=dataset_formatting(train_df,columns_to_drop,classification_rules)\n",
    "val_json=dataset_formatting(val_df,columns_to_drop,classification_rules)\n",
    "test_json=dataset_formatting(test_df,columns_to_drop,classification_rules)\n",
    "\n",
    "os.makedirs(control_vs_als_and_myopathy_jsonl,exist_ok=True)\n",
    "save_jsonl(train_json,f\"{control_vs_als_and_myopathy_jsonl}/train.jsonl\")\n",
    "save_jsonl(val_json,f\"{control_vs_als_and_myopathy_jsonl}/val.jsonl\")\n",
    "save_jsonl(test_json,f\"{control_vs_als_and_myopathy_jsonl}/test.jsonl\")\n",
    "\n"
   ]
  },
  {
   "cell_type": "code",
   "execution_count": 23,
   "metadata": {},
   "outputs": [],
   "source": [
    "myopathy_vs_control_and_als_dataset=os.path.join(datasets_directory,\"myopathy_vs_control_and_als_dataset\")\n",
    "myopathy_vs_control_and_als_jsonl=os.path.join(output_directory,\"myopathy_vs_control_and_als_dataset\")\n",
    "train_df=pd.read_csv(f\"{myopathy_vs_control_and_als_dataset}/train.csv\")\n",
    "val_df=pd.read_csv(f\"{myopathy_vs_control_and_als_dataset}/val.csv\")\n",
    "test_df=pd.read_csv(f\"{myopathy_vs_control_and_als_dataset}/test.csv\")\n",
    "\n",
    "\n",
    "\n",
    "columns_to_drop=[\"Patient\"]\n",
    "classification_rules=[\"NON-Myopathy\",\"Myopathy\"]\n",
    "\n",
    "train_json=dataset_formatting(train_df,columns_to_drop,classification_rules)\n",
    "val_json=dataset_formatting(val_df,columns_to_drop,classification_rules)\n",
    "test_json=dataset_formatting(test_df,columns_to_drop,classification_rules)\n",
    "\n",
    "os.makedirs(myopathy_vs_control_and_als_jsonl,exist_ok=True)\n",
    "save_jsonl(train_json,f\"{myopathy_vs_control_and_als_jsonl}/train.jsonl\")\n",
    "save_jsonl(val_json,f\"{myopathy_vs_control_and_als_jsonl}/val.jsonl\")\n",
    "save_jsonl(test_json,f\"{myopathy_vs_control_and_als_jsonl}/test.jsonl\")\n",
    "\n"
   ]
  }
 ],
 "metadata": {
  "kernelspec": {
   "display_name": ".venv",
   "language": "python",
   "name": "python3"
  },
  "language_info": {
   "codemirror_mode": {
    "name": "ipython",
    "version": 3
   },
   "file_extension": ".py",
   "mimetype": "text/x-python",
   "name": "python",
   "nbconvert_exporter": "python",
   "pygments_lexer": "ipython3",
   "version": "3.11.9"
  }
 },
 "nbformat": 4,
 "nbformat_minor": 2
}
