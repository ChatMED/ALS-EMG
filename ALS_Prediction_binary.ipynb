{
  "nbformat": 4,
  "nbformat_minor": 0,
  "metadata": {
    "colab": {
      "provenance": [],
      "gpuType": "T4"
    },
    "kernelspec": {
      "name": "python3",
      "display_name": "Python 3"
    },
    "language_info": {
      "name": "python"
    },
    "accelerator": "GPU"
  },
  "cells": [
    {
      "cell_type": "code",
      "source": [
        "!pip install unsloth peft transformers datasets trl accelerate evaluate"
      ],
      "metadata": {
        "id": "7JPEomZvCVr1"
      },
      "execution_count": null,
      "outputs": []
    },
    {
      "cell_type": "code",
      "source": [
        "from google.colab import drive\n",
        "drive.mount('/content/drive')"
      ],
      "metadata": {
        "id": "s65pPA_bCUPa"
      },
      "execution_count": null,
      "outputs": []
    },
    {
      "cell_type": "code",
      "execution_count": null,
      "metadata": {
        "id": "C-U3zzrp_vd2"
      },
      "outputs": [],
      "source": [
        "from unsloth import FastLanguageModel\n",
        "import torch\n",
        "import json\n",
        "from datasets import Dataset,DatasetDict\n",
        "import pandas as pd\n",
        "from transformers import AutoTokenizer, DataCollatorWithPadding\n",
        "from transformers import AutoModelForSequenceClassification\n",
        "from transformers import Trainer,TrainingArguments\n",
        "from peft import get_peft_model, LoraConfig, TaskType\n",
        "import evaluate\n",
        "import numpy as np\n",
        "import os"
      ]
    },
    {
      "cell_type": "code",
      "source": [
        "project_directory=\"/content/drive/MyDrive/Colab Notebooks/Diplomska/als_datasets\"\n",
        "emglab_dataset=os.path.join(project_directory,\"emglab_dataset_bb\")\n",
        "\n",
        "control_als_dataset=os.path.join(project_directory,\"control_als_dataset\")\n",
        "control_myopathy_dataset=os.path.join(project_directory,\"control_myopathy_dataset\")\n",
        "als_myopathy_dataset=os.path.join(project_directory,\"als_myopathy_dataset\")\n",
        "control_als_myopathy_dataset=os.path.join(project_directory,\"control_als_myopathy_dataset\")"
      ],
      "metadata": {
        "id": "3dachkLmBZX8"
      },
      "execution_count": 3,
      "outputs": []
    },
    {
      "cell_type": "code",
      "source": [
        "LLAMA_MODEL=\"unsloth/Llama-3.2-1B-Instruct\"\n",
        "DEEPSEEK_MODEL=\"deepseek-ai/DeepSeek-R1-Distill-Qwen-1.5B\"\n",
        "\n",
        "MODEL_PATH=LLAMA_MODEL  # Large Language model used for classification\n",
        "\n",
        "TOKEN_LEN = 256\n",
        "NUM_CLASSES=2  # 2 if using a binary dataset, 3 if using a multiclass dataset\n",
        "\n",
        "lr = 1e-4\n",
        "batch_size = 16\n",
        "num_epochs = 50"
      ],
      "metadata": {
        "id": "9_3v1nla7ujb"
      },
      "execution_count": 4,
      "outputs": []
    },
    {
      "cell_type": "code",
      "source": [
        "current_dataset=control_myopathy_dataset  # Which dataset to finetune the llm\n",
        "def mapping_control_myopathy(example):  # Mapping function for control_myopathy_dataset\n",
        "  return 1 if example[\"completion\"] == \"Myopathy\" else 0\n",
        "\n",
        "def mapping_als(example):  # Mapping function for control_als_dataset and als_myopathy_dataset\n",
        "  return 1 if example[\"completion\"] == \"ALS\" else 0\n",
        "\n",
        "CURRENT_MAPPING_FUNCTION=mapping_control_myopathy  # Choose mapping function based on the dataset used\n",
        "\n",
        "with open(os.path.join(current_dataset,\"train.jsonl\"), \"r\") as file:\n",
        "    train_dataset = [json.loads(line) for line in file]\n",
        "\n",
        "with open(os.path.join(current_dataset,\"test.jsonl\"), \"r\") as file:\n",
        "    test_dataset = [json.loads(line) for line in file]"
      ],
      "metadata": {
        "id": "92-l06GqDuzE"
      },
      "execution_count": 6,
      "outputs": []
    },
    {
      "cell_type": "code",
      "source": [
        "train_dataset=Dataset.from_list(train_dataset)\n",
        "test_dataset=Dataset.from_list(test_dataset)\n",
        "\n",
        "dataset=DatasetDict({\n",
        "    \"train\":train_dataset,\n",
        "    \"test\":test_dataset\n",
        "})\n",
        "def rename_features_2_classes(example):\n",
        "    return {\n",
        "        \"text\": example[\"prompt\"],\n",
        "        \"target\": CURRENT_MAPPING_FUNCTION(example)\n",
        "    }\n",
        "\n",
        "dataset = dataset.map(rename_features_2_classes, remove_columns=[\"prompt\", \"completion\"])"
      ],
      "metadata": {
        "id": "VIhSXA-zLvkt"
      },
      "execution_count": null,
      "outputs": []
    },
    {
      "cell_type": "code",
      "source": [
        "col_to_delete = ['text']"
      ],
      "metadata": {
        "id": "75TbuWQ77fd0"
      },
      "execution_count": null,
      "outputs": []
    },
    {
      "cell_type": "code",
      "source": [
        "tokenizer = AutoTokenizer.from_pretrained(MODEL_PATH, trust_remote_code=True)\n",
        "tokenizer.pad_token_id = tokenizer.eos_token_id\n",
        "tokenizer.pad_token = tokenizer.eos_token\n",
        "\n",
        "def preprocessing_function(examples):\n",
        "    return tokenizer(examples['text'], truncation=True, max_length=TOKEN_LEN)\n",
        "\n",
        "tokenized_datasets = dataset.map(preprocessing_function, batched=True, remove_columns=col_to_delete)\n",
        "tokenized_datasets = tokenized_datasets.rename_column(\"target\", \"label\")\n",
        "tokenized_datasets.set_format(\"torch\")\n",
        "\n",
        "data_collator = DataCollatorWithPadding(tokenizer=tokenizer)"
      ],
      "metadata": {
        "id": "FeiRKkuC8Y16"
      },
      "execution_count": null,
      "outputs": []
    },
    {
      "cell_type": "code",
      "source": [
        "model =  AutoModelForSequenceClassification.from_pretrained(\n",
        "  pretrained_model_name_or_path=MODEL_PATH,\n",
        "  num_labels=NUM_CLASSES,\n",
        "  device_map=\"auto\",\n",
        "  offload_folder=\"offload\",\n",
        "  trust_remote_code=True\n",
        ")"
      ],
      "metadata": {
        "id": "iBjza4YF84CS"
      },
      "execution_count": null,
      "outputs": []
    },
    {
      "cell_type": "code",
      "source": [
        "model.config.pad_token_id = model.config.eos_token_id\n",
        "\n",
        "peft_config = LoraConfig(\n",
        "    task_type=TaskType.SEQ_CLS, r=16, lora_alpha=16, lora_dropout=0.05, bias=\"none\",\n",
        "    target_modules=[\n",
        "        \"q_proj\",\n",
        "        \"v_proj\",\n",
        "    ],\n",
        ")\n",
        "\n",
        "model = get_peft_model(model, peft_config)\n",
        "model.print_trainable_parameters()"
      ],
      "metadata": {
        "id": "_mfz0sAZ8_Rq"
      },
      "execution_count": null,
      "outputs": []
    },
    {
      "cell_type": "code",
      "source": [
        "def compute_metrics(eval_pred):\n",
        "    precision_metric = evaluate.load(\"precision\")\n",
        "    recall_metric = evaluate.load(\"recall\")\n",
        "    f1_metric= evaluate.load(\"f1\")\n",
        "    accuracy_metric = evaluate.load(\"accuracy\")\n",
        "\n",
        "    logits, labels = eval_pred\n",
        "    predictions = np.argmax(logits, axis=-1)\n",
        "    precision = precision_metric.compute(predictions=predictions, references=labels)[\"precision\"]\n",
        "    recall = recall_metric.compute(predictions=predictions, references=labels)[\"recall\"]\n",
        "    f1 = f1_metric.compute(predictions=predictions, references=labels)[\"f1\"]\n",
        "    accuracy = accuracy_metric.compute(predictions=predictions, references=labels)[\"accuracy\"]\n",
        "\n",
        "    return {\"precision\": precision, \"recall\": recall, \"f1-score\": f1, 'accuracy': accuracy}"
      ],
      "metadata": {
        "id": "ZYlG28Hr9KKS"
      },
      "execution_count": null,
      "outputs": []
    },
    {
      "cell_type": "code",
      "source": [
        "training_args = TrainingArguments(\n",
        "    output_dir=\"lora-token-classification\",\n",
        "    learning_rate=lr,\n",
        "    lr_scheduler_type= \"constant\",\n",
        "    warmup_ratio= 0.1,\n",
        "    max_grad_norm= 0.3,\n",
        "    per_device_train_batch_size=batch_size,\n",
        "    per_device_eval_batch_size=batch_size,\n",
        "    num_train_epochs=num_epochs,\n",
        "    weight_decay=0.001,\n",
        "    evaluation_strategy=\"epoch\",\n",
        "    save_strategy=\"epoch\",\n",
        "    load_best_model_at_end=True,\n",
        "    report_to=\"wandb\",\n",
        "    fp16=True,\n",
        "    gradient_checkpointing=True,\n",
        ")\n",
        "\n",
        "trainer = Trainer(\n",
        "    model=model,\n",
        "    args=training_args,\n",
        "    train_dataset=tokenized_datasets['train'],\n",
        "    eval_dataset=tokenized_datasets[\"test\"],\n",
        "    data_collator=data_collator,\n",
        "    compute_metrics=compute_metrics\n",
        ")"
      ],
      "metadata": {
        "id": "OpTRIlp89VQ6"
      },
      "execution_count": null,
      "outputs": []
    },
    {
      "cell_type": "code",
      "source": [
        "trainer.train()"
      ],
      "metadata": {
        "id": "UOlW5cJK9dla"
      },
      "execution_count": null,
      "outputs": []
    },
    {
      "cell_type": "code",
      "source": [
        "print(\"Model: \",\"LLaMA\")\n",
        "print(\"Dataset: \",\"control_myopathy_dataset\")\n",
        "trainer.evaluate()"
      ],
      "metadata": {
        "id": "3hJ8BI1g94Dx"
      },
      "execution_count": null,
      "outputs": []
    }
  ]
}